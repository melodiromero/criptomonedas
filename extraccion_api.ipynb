{
 "cells": [
  {
   "cell_type": "code",
   "execution_count": 2,
   "metadata": {},
   "outputs": [],
   "source": [
    "from pycoingecko import CoinGeckoAPI\n",
    "import pandas as pd\n",
    "import json"
   ]
  },
  {
   "cell_type": "code",
   "execution_count": 3,
   "metadata": {},
   "outputs": [],
   "source": [
    "cg = CoinGeckoAPI()\n",
    "\n",
    "def get_coin_list():\n",
    "    return cg.get_coins_list()\n",
    "\n",
    "def get_coins_markets(vs_currency: str):\n",
    "    return cg.get_coins_markets(vs_currency)\n",
    "\n",
    "def get_coin_by_id(id: str):\n",
    "    return cg.get_coin_by_id(id)\n",
    "\n",
    "def get_coin_market_chart_by_id():\n",
    "    return cg.get_coin_market_chart_by_id()\n"
   ]
  },
  {
   "cell_type": "markdown",
   "metadata": {},
   "source": [
    "El endpoint **get_coin_list()** retorna todas las monedas con su id, simbolo y nombre."
   ]
  },
  {
   "cell_type": "code",
   "execution_count": null,
   "metadata": {},
   "outputs": [],
   "source": [
    "monedas = get_coin_list()\n",
    "df      = pd.json_normalize(monedas)\n",
    "df.to_csv(\"monedas.csv\")"
   ]
  },
  {
   "cell_type": "markdown",
   "metadata": {},
   "source": [
    "El endpoint **get_coins_markets** retorna los datos del mercado de monedas (precio, capitalización de mercado, volumen), por página.\n",
    "Nota: cuando se proporcionan los parámetros 'categoría' e 'ids', el parámetro 'categoría' tiene prioridad sobre el parámetro 'ids'.\n"
   ]
  },
  {
   "cell_type": "code",
   "execution_count": 9,
   "metadata": {},
   "outputs": [],
   "source": [
    "# Seleccion de las monedas\n",
    "monedas_elegidas = get_coins_markets('usd')\n",
    "df_s    = pd.json_normalize(monedas_elegidas)\n",
    "df_s.to_csv(\"monedas_markets.csv\")"
   ]
  }
 ],
 "metadata": {
  "kernelspec": {
   "display_name": "Python 3",
   "language": "python",
   "name": "python3"
  },
  "language_info": {
   "codemirror_mode": {
    "name": "ipython",
    "version": 3
   },
   "file_extension": ".py",
   "mimetype": "text/x-python",
   "name": "python",
   "nbconvert_exporter": "python",
   "pygments_lexer": "ipython3",
   "version": "3.9.0"
  },
  "orig_nbformat": 4
 },
 "nbformat": 4,
 "nbformat_minor": 2
}
