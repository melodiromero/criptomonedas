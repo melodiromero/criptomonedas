{
 "cells": [
  {
   "cell_type": "code",
   "execution_count": 3,
   "metadata": {},
   "outputs": [],
   "source": [
    "from pycoingecko import CoinGeckoAPI\n",
    "import pandas as pd"
   ]
  },
  {
   "cell_type": "code",
   "execution_count": 12,
   "metadata": {},
   "outputs": [],
   "source": [
    "cg = CoinGeckoAPI()\n",
    "\n",
    "def get_coin_list():\n",
    "    return cg.get_coins_list()\n",
    "\n",
    "def get_coins_markets(vs_currency: str):\n",
    "    return cg.get_coins_markets(vs_currency)\n",
    "\n",
    "def get_coin_by_id(id: str):\n",
    "    return cg.get_coin_by_id(id)\n",
    "\n",
    "def get_coin_market_chart_by_id(id: str, vs_currency: str, days: str):\n",
    "    return cg.get_coin_market_chart_by_id(id, vs_currency, days )\n",
    "\n",
    "def get_coins_categories():\n",
    "    return cg.get_coins_categories()\n"
   ]
  },
  {
   "cell_type": "markdown",
   "metadata": {},
   "source": [
    "El endpoint **get_coin_list()** retorna todas las monedas con su id, simbolo y nombre."
   ]
  },
  {
   "cell_type": "code",
   "execution_count": null,
   "metadata": {},
   "outputs": [],
   "source": [
    "monedas = get_coin_list()\n",
    "df      = pd.json_normalize(monedas)\n",
    "df.to_csv(\"datasets/monedas.csv\")"
   ]
  },
  {
   "cell_type": "markdown",
   "metadata": {},
   "source": [
    "El endpoint **get_coins_markets** retorna los datos del mercado de monedas (precio, capitalización de mercado, volumen), por página.\n",
    "Nota: cuando se proporcionan los parámetros 'categoría' e 'ids', el parámetro 'categoría' tiene prioridad sobre el parámetro 'ids'.\n"
   ]
  },
  {
   "cell_type": "code",
   "execution_count": 9,
   "metadata": {},
   "outputs": [],
   "source": [
    "# Seleccion de las monedas\n",
    "monedas_elegidas = get_coins_markets('usd')\n",
    "df_s    = pd.json_normalize(monedas_elegidas)\n",
    "df_s.to_csv(\"datasets/monedas_markets.csv\")"
   ]
  },
  {
   "cell_type": "code",
   "execution_count": 13,
   "metadata": {},
   "outputs": [],
   "source": [
    "# Categorias de las criptos\n",
    "categorias = get_coins_categories()\n",
    "df_s    = pd.json_normalize(categorias)\n",
    "df_s.to_csv(\"datasets/categorias.csv\")"
   ]
  },
  {
   "cell_type": "markdown",
   "metadata": {},
   "source": [
    "Datos del bitcoin y tether que son objeto de estudio"
   ]
  },
  {
   "cell_type": "code",
   "execution_count": 10,
   "metadata": {},
   "outputs": [],
   "source": [
    "datos_bitcoin = get_coin_market_chart_by_id('bitcoin','usd','30')\n",
    "df_s    = pd.json_normalize(datos_bitcoin)\n",
    "df_s.to_csv(\"datasets/datos_bitcoin.csv\")"
   ]
  },
  {
   "cell_type": "code",
   "execution_count": 15,
   "metadata": {},
   "outputs": [],
   "source": [
    "datos_tether = get_coin_market_chart_by_id('tether','usd','30')\n",
    "df_s    = pd.json_normalize(datos_tether)\n",
    "df_s.to_csv(\"datasets/datos_tether.csv\")"
   ]
  }
 ],
 "metadata": {
  "kernelspec": {
   "display_name": "Python 3",
   "language": "python",
   "name": "python3"
  },
  "language_info": {
   "codemirror_mode": {
    "name": "ipython",
    "version": 3
   },
   "file_extension": ".py",
   "mimetype": "text/x-python",
   "name": "python",
   "nbconvert_exporter": "python",
   "pygments_lexer": "ipython3",
   "version": "3.9.0"
  },
  "orig_nbformat": 4
 },
 "nbformat": 4,
 "nbformat_minor": 2
}
