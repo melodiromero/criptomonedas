{
 "cells": [
  {
   "cell_type": "markdown",
   "metadata": {},
   "source": [
    "# Exploración de los datos de las categorías de criptomonedas"
   ]
  },
  {
   "cell_type": "markdown",
   "metadata": {},
   "source": [
    "## Índice\n",
    "1. [Descripción de los datos ](#id1)\n",
    "2. [Outliers](#id2)\n",
    "3. [Distribución y relación de los datos](#id3)\n"
   ]
  },
  {
   "cell_type": "markdown",
   "metadata": {},
   "source": [
    "## 1. Descripción de los datos"
   ]
  },
  {
   "cell_type": "code",
   "execution_count": 1,
   "metadata": {},
   "outputs": [],
   "source": [
    "# se importa las librerias necesarias\n",
    "import pandas as pd\n",
    "import matplotlib.pyplot as plt \n",
    "import seaborn as sns"
   ]
  },
  {
   "cell_type": "code",
   "execution_count": 2,
   "metadata": {},
   "outputs": [],
   "source": [
    "df = pd.read_csv('../datasets/categorias.csv', delimiter=',')"
   ]
  },
  {
   "cell_type": "code",
   "execution_count": 3,
   "metadata": {},
   "outputs": [
    {
     "data": {
      "text/html": [
       "<div>\n",
       "<style scoped>\n",
       "    .dataframe tbody tr th:only-of-type {\n",
       "        vertical-align: middle;\n",
       "    }\n",
       "\n",
       "    .dataframe tbody tr th {\n",
       "        vertical-align: top;\n",
       "    }\n",
       "\n",
       "    .dataframe thead th {\n",
       "        text-align: right;\n",
       "    }\n",
       "</style>\n",
       "<table border=\"1\" class=\"dataframe\">\n",
       "  <thead>\n",
       "    <tr style=\"text-align: right;\">\n",
       "      <th></th>\n",
       "      <th>Unnamed: 0</th>\n",
       "      <th>id</th>\n",
       "      <th>name</th>\n",
       "      <th>market_cap</th>\n",
       "      <th>market_cap_change_24h</th>\n",
       "      <th>content</th>\n",
       "      <th>top_3_coins</th>\n",
       "      <th>volume_24h</th>\n",
       "      <th>updated_at</th>\n",
       "    </tr>\n",
       "  </thead>\n",
       "  <tbody>\n",
       "    <tr>\n",
       "      <th>0</th>\n",
       "      <td>0</td>\n",
       "      <td>layer-1</td>\n",
       "      <td>Layer 1 (L1)</td>\n",
       "      <td>7.889016e+11</td>\n",
       "      <td>-1.406792</td>\n",
       "      <td>NaN</td>\n",
       "      <td>['https://assets.coingecko.com/coins/images/1/...</td>\n",
       "      <td>1.826987e+10</td>\n",
       "      <td>2023-08-25T23:10:25.431Z</td>\n",
       "    </tr>\n",
       "    <tr>\n",
       "      <th>1</th>\n",
       "      <td>1</td>\n",
       "      <td>smart-contract-platform</td>\n",
       "      <td>Smart Contract Platform</td>\n",
       "      <td>3.051210e+11</td>\n",
       "      <td>-1.409583</td>\n",
       "      <td>Smart contract platforms are usually blockchai...</td>\n",
       "      <td>['https://assets.coingecko.com/coins/images/27...</td>\n",
       "      <td>1.002859e+10</td>\n",
       "      <td>2023-08-25T23:15:04.884Z</td>\n",
       "    </tr>\n",
       "    <tr>\n",
       "      <th>2</th>\n",
       "      <td>2</td>\n",
       "      <td>stablecoins</td>\n",
       "      <td>Stablecoins</td>\n",
       "      <td>1.242245e+11</td>\n",
       "      <td>0.181809</td>\n",
       "      <td>NaN</td>\n",
       "      <td>['https://assets.coingecko.com/coins/images/32...</td>\n",
       "      <td>2.104310e+10</td>\n",
       "      <td>2023-08-25T23:15:04.636Z</td>\n",
       "    </tr>\n",
       "    <tr>\n",
       "      <th>3</th>\n",
       "      <td>3</td>\n",
       "      <td>alleged-sec-securities</td>\n",
       "      <td>Alleged SEC Securities</td>\n",
       "      <td>8.258470e+10</td>\n",
       "      <td>-1.158269</td>\n",
       "      <td>Tokens and cryptocurrencies alleged to be secu...</td>\n",
       "      <td>['https://assets.coingecko.com/coins/images/82...</td>\n",
       "      <td>2.554525e+09</td>\n",
       "      <td>2023-08-25T23:15:03.007Z</td>\n",
       "    </tr>\n",
       "    <tr>\n",
       "      <th>4</th>\n",
       "      <td>4</td>\n",
       "      <td>exchange-based-tokens</td>\n",
       "      <td>Exchange-based Tokens</td>\n",
       "      <td>5.303521e+10</td>\n",
       "      <td>-0.309808</td>\n",
       "      <td>These tokens are normally associated with both...</td>\n",
       "      <td>['https://assets.coingecko.com/coins/images/82...</td>\n",
       "      <td>9.242519e+08</td>\n",
       "      <td>2023-08-25T23:15:06.393Z</td>\n",
       "    </tr>\n",
       "  </tbody>\n",
       "</table>\n",
       "</div>"
      ],
      "text/plain": [
       "   Unnamed: 0                       id                     name    market_cap  \\\n",
       "0           0                  layer-1             Layer 1 (L1)  7.889016e+11   \n",
       "1           1  smart-contract-platform  Smart Contract Platform  3.051210e+11   \n",
       "2           2              stablecoins              Stablecoins  1.242245e+11   \n",
       "3           3   alleged-sec-securities   Alleged SEC Securities  8.258470e+10   \n",
       "4           4    exchange-based-tokens    Exchange-based Tokens  5.303521e+10   \n",
       "\n",
       "   market_cap_change_24h                                            content  \\\n",
       "0              -1.406792                                                NaN   \n",
       "1              -1.409583  Smart contract platforms are usually blockchai...   \n",
       "2               0.181809                                                NaN   \n",
       "3              -1.158269  Tokens and cryptocurrencies alleged to be secu...   \n",
       "4              -0.309808  These tokens are normally associated with both...   \n",
       "\n",
       "                                         top_3_coins    volume_24h  \\\n",
       "0  ['https://assets.coingecko.com/coins/images/1/...  1.826987e+10   \n",
       "1  ['https://assets.coingecko.com/coins/images/27...  1.002859e+10   \n",
       "2  ['https://assets.coingecko.com/coins/images/32...  2.104310e+10   \n",
       "3  ['https://assets.coingecko.com/coins/images/82...  2.554525e+09   \n",
       "4  ['https://assets.coingecko.com/coins/images/82...  9.242519e+08   \n",
       "\n",
       "                 updated_at  \n",
       "0  2023-08-25T23:10:25.431Z  \n",
       "1  2023-08-25T23:15:04.884Z  \n",
       "2  2023-08-25T23:15:04.636Z  \n",
       "3  2023-08-25T23:15:03.007Z  \n",
       "4  2023-08-25T23:15:06.393Z  "
      ]
     },
     "execution_count": 3,
     "metadata": {},
     "output_type": "execute_result"
    }
   ],
   "source": [
    "df.head()"
   ]
  },
  {
   "cell_type": "code",
   "execution_count": 27,
   "metadata": {},
   "outputs": [
    {
     "data": {
      "text/plain": [
       "116"
      ]
     },
     "execution_count": 27,
     "metadata": {},
     "output_type": "execute_result"
    }
   ],
   "source": [
    "# se averigua cúantos registros hay: 116 registros\n",
    "df.shape[0]"
   ]
  },
  {
   "cell_type": "code",
   "execution_count": 32,
   "metadata": {},
   "outputs": [
    {
     "data": {
      "text/plain": [
       "Index(['Unnamed: 0', 'id', 'name', 'market_cap', 'market_cap_change_24h',\n",
       "       'content', 'top_3_coins', 'volume_24h', 'updated_at'],\n",
       "      dtype='object')"
      ]
     },
     "execution_count": 32,
     "metadata": {},
     "output_type": "execute_result"
    }
   ],
   "source": [
    "df.columns"
   ]
  },
  {
   "cell_type": "code",
   "execution_count": 5,
   "metadata": {},
   "outputs": [
    {
     "name": "stdout",
     "output_type": "stream",
     "text": [
      "<class 'pandas.core.frame.DataFrame'>\n",
      "RangeIndex: 116 entries, 0 to 115\n",
      "Data columns (total 9 columns):\n",
      " #   Column                 Non-Null Count  Dtype  \n",
      "---  ------                 --------------  -----  \n",
      " 0   Unnamed: 0             116 non-null    int64  \n",
      " 1   id                     116 non-null    object \n",
      " 2   name                   116 non-null    object \n",
      " 3   market_cap             76 non-null     float64\n",
      " 4   market_cap_change_24h  76 non-null     float64\n",
      " 5   content                45 non-null     object \n",
      " 6   top_3_coins            116 non-null    object \n",
      " 7   volume_24h             76 non-null     float64\n",
      " 8   updated_at             113 non-null    object \n",
      "dtypes: float64(3), int64(1), object(5)\n",
      "memory usage: 8.3+ KB\n"
     ]
    }
   ],
   "source": [
    "# Se observa por columna: la cantidad de registro, el tipo de dato y si tiene valores nulos o no. \n",
    "# También se observa el uso de memoria.\n",
    "df.info()"
   ]
  },
  {
   "cell_type": "code",
   "execution_count": 6,
   "metadata": {},
   "outputs": [
    {
     "data": {
      "text/html": [
       "<div>\n",
       "<style scoped>\n",
       "    .dataframe tbody tr th:only-of-type {\n",
       "        vertical-align: middle;\n",
       "    }\n",
       "\n",
       "    .dataframe tbody tr th {\n",
       "        vertical-align: top;\n",
       "    }\n",
       "\n",
       "    .dataframe thead th {\n",
       "        text-align: right;\n",
       "    }\n",
       "</style>\n",
       "<table border=\"1\" class=\"dataframe\">\n",
       "  <thead>\n",
       "    <tr style=\"text-align: right;\">\n",
       "      <th></th>\n",
       "      <th>Unnamed: 0</th>\n",
       "      <th>market_cap</th>\n",
       "      <th>market_cap_change_24h</th>\n",
       "      <th>volume_24h</th>\n",
       "    </tr>\n",
       "  </thead>\n",
       "  <tbody>\n",
       "    <tr>\n",
       "      <th>count</th>\n",
       "      <td>116.000000</td>\n",
       "      <td>7.600000e+01</td>\n",
       "      <td>76.000000</td>\n",
       "      <td>7.600000e+01</td>\n",
       "    </tr>\n",
       "    <tr>\n",
       "      <th>mean</th>\n",
       "      <td>57.500000</td>\n",
       "      <td>2.154527e+10</td>\n",
       "      <td>-1.798666</td>\n",
       "      <td>2.748091e+09</td>\n",
       "    </tr>\n",
       "    <tr>\n",
       "      <th>std</th>\n",
       "      <td>33.630343</td>\n",
       "      <td>9.735213e+10</td>\n",
       "      <td>2.751510</td>\n",
       "      <td>8.623255e+09</td>\n",
       "    </tr>\n",
       "    <tr>\n",
       "      <th>min</th>\n",
       "      <td>0.000000</td>\n",
       "      <td>0.000000e+00</td>\n",
       "      <td>-12.281712</td>\n",
       "      <td>4.828139e+03</td>\n",
       "    </tr>\n",
       "    <tr>\n",
       "      <th>25%</th>\n",
       "      <td>28.750000</td>\n",
       "      <td>2.305157e+08</td>\n",
       "      <td>-2.713029</td>\n",
       "      <td>7.463919e+06</td>\n",
       "    </tr>\n",
       "    <tr>\n",
       "      <th>50%</th>\n",
       "      <td>57.500000</td>\n",
       "      <td>1.086403e+09</td>\n",
       "      <td>-1.633370</td>\n",
       "      <td>6.120738e+07</td>\n",
       "    </tr>\n",
       "    <tr>\n",
       "      <th>75%</th>\n",
       "      <td>86.250000</td>\n",
       "      <td>5.555152e+09</td>\n",
       "      <td>-0.371870</td>\n",
       "      <td>4.138063e+08</td>\n",
       "    </tr>\n",
       "    <tr>\n",
       "      <th>max</th>\n",
       "      <td>115.000000</td>\n",
       "      <td>7.889016e+11</td>\n",
       "      <td>12.926994</td>\n",
       "      <td>3.704039e+10</td>\n",
       "    </tr>\n",
       "  </tbody>\n",
       "</table>\n",
       "</div>"
      ],
      "text/plain": [
       "       Unnamed: 0    market_cap  market_cap_change_24h    volume_24h\n",
       "count  116.000000  7.600000e+01              76.000000  7.600000e+01\n",
       "mean    57.500000  2.154527e+10              -1.798666  2.748091e+09\n",
       "std     33.630343  9.735213e+10               2.751510  8.623255e+09\n",
       "min      0.000000  0.000000e+00             -12.281712  4.828139e+03\n",
       "25%     28.750000  2.305157e+08              -2.713029  7.463919e+06\n",
       "50%     57.500000  1.086403e+09              -1.633370  6.120738e+07\n",
       "75%     86.250000  5.555152e+09              -0.371870  4.138063e+08\n",
       "max    115.000000  7.889016e+11              12.926994  3.704039e+10"
      ]
     },
     "execution_count": 6,
     "metadata": {},
     "output_type": "execute_result"
    }
   ],
   "source": [
    "df.describe()"
   ]
  },
  {
   "cell_type": "markdown",
   "metadata": {},
   "source": [
    "Se observa que hay categorias que no tienen market_cap registrado"
   ]
  },
  {
   "cell_type": "code",
   "execution_count": 7,
   "metadata": {},
   "outputs": [
    {
     "data": {
      "text/html": [
       "<div>\n",
       "<style scoped>\n",
       "    .dataframe tbody tr th:only-of-type {\n",
       "        vertical-align: middle;\n",
       "    }\n",
       "\n",
       "    .dataframe tbody tr th {\n",
       "        vertical-align: top;\n",
       "    }\n",
       "\n",
       "    .dataframe thead th {\n",
       "        text-align: right;\n",
       "    }\n",
       "</style>\n",
       "<table border=\"1\" class=\"dataframe\">\n",
       "  <thead>\n",
       "    <tr style=\"text-align: right;\">\n",
       "      <th></th>\n",
       "      <th>Unnamed: 0</th>\n",
       "      <th>id</th>\n",
       "      <th>name</th>\n",
       "      <th>market_cap</th>\n",
       "      <th>market_cap_change_24h</th>\n",
       "      <th>content</th>\n",
       "      <th>top_3_coins</th>\n",
       "      <th>volume_24h</th>\n",
       "      <th>updated_at</th>\n",
       "    </tr>\n",
       "  </thead>\n",
       "  <tbody>\n",
       "  </tbody>\n",
       "</table>\n",
       "</div>"
      ],
      "text/plain": [
       "Empty DataFrame\n",
       "Columns: [Unnamed: 0, id, name, market_cap, market_cap_change_24h, content, top_3_coins, volume_24h, updated_at]\n",
       "Index: []"
      ]
     },
     "execution_count": 7,
     "metadata": {},
     "output_type": "execute_result"
    }
   ],
   "source": [
    "# se averigua si hay nulos --> no hay nulos.\n",
    "df[df.duplicated(keep=False)]"
   ]
  },
  {
   "cell_type": "markdown",
   "metadata": {},
   "source": [
    "Se averigua la tendencia de las categorias en las criptomonedas segun su capitalización en el mercado:"
   ]
  },
  {
   "cell_type": "code",
   "execution_count": 14,
   "metadata": {},
   "outputs": [
    {
     "name": "stdout",
     "output_type": "stream",
     "text": [
      "   Unnamed: 0                       id                     name    market_cap  \\\n",
      "0           0                  layer-1             Layer 1 (L1)  7.889016e+11   \n",
      "1           1  smart-contract-platform  Smart Contract Platform  3.051210e+11   \n",
      "2           2              stablecoins              Stablecoins  1.242245e+11   \n",
      "3           3   alleged-sec-securities   Alleged SEC Securities  8.258470e+10   \n",
      "4           4    exchange-based-tokens    Exchange-based Tokens  5.303521e+10   \n",
      "\n",
      "   market_cap_change_24h                                            content  \\\n",
      "0              -1.406792                                                NaN   \n",
      "1              -1.409583  Smart contract platforms are usually blockchai...   \n",
      "2               0.181809                                                NaN   \n",
      "3              -1.158269  Tokens and cryptocurrencies alleged to be secu...   \n",
      "4              -0.309808  These tokens are normally associated with both...   \n",
      "\n",
      "                                         top_3_coins    volume_24h  \\\n",
      "0  ['https://assets.coingecko.com/coins/images/1/...  1.826987e+10   \n",
      "1  ['https://assets.coingecko.com/coins/images/27...  1.002859e+10   \n",
      "2  ['https://assets.coingecko.com/coins/images/32...  2.104310e+10   \n",
      "3  ['https://assets.coingecko.com/coins/images/82...  2.554525e+09   \n",
      "4  ['https://assets.coingecko.com/coins/images/82...  9.242519e+08   \n",
      "\n",
      "                 updated_at  \n",
      "0  2023-08-25T23:10:25.431Z  \n",
      "1  2023-08-25T23:15:04.884Z  \n",
      "2  2023-08-25T23:15:04.636Z  \n",
      "3  2023-08-25T23:15:03.007Z  \n",
      "4  2023-08-25T23:15:06.393Z  \n"
     ]
    }
   ],
   "source": [
    "df_ordenado_precio = df.sort_values(by='market_cap', ascending=False)\n",
    "\n",
    "top_5 = df_ordenado_precio.head(5)\n",
    "\n",
    "print(top_5)"
   ]
  },
  {
   "cell_type": "markdown",
   "metadata": {},
   "source": [
    "## 2. Outliers"
   ]
  },
  {
   "cell_type": "markdown",
   "metadata": {},
   "source": [
    "Para la detección de valores outliers se toman estas columnas: current_price, market_cap, market_cap_rank, fully_diluted_valuation y total_volume.       "
   ]
  },
  {
   "cell_type": "code",
   "execution_count": 15,
   "metadata": {},
   "outputs": [
    {
     "data": {
      "image/png": "[encoded data removed]",
      "text/plain": [
       "<Figure size 640x480 with 1 Axes>"
      ]
     },
     "metadata": {},
     "output_type": "display_data"
    }
   ],
   "source": [
    "# Se averigua datos outliers para las variables cualitativas, se crea boxplot para las columnas de interés.\n",
    "\n",
    "columnas = ['market_cap','market_cap_change_24h','volume_24h']\n",
    "\n",
    "df[columnas].boxplot()\n",
    "\n",
    "plt.xlabel('Columnas')\n",
    "plt.ylabel('Valores')\n",
    "plt.title('Boxplot de las las columnas seleccionadas')\n",
    "\n",
    "plt.show()"
   ]
  },
  {
   "cell_type": "code",
   "execution_count": 16,
   "metadata": {},
   "outputs": [
    {
     "name": "stdout",
     "output_type": "stream",
     "text": [
      "cantidad de registros 10\n",
      "   Unnamed: 0                              id                          name  \\\n",
      "0           0                         layer-1                  Layer 1 (L1)   \n",
      "1           1         smart-contract-platform       Smart Contract Platform   \n",
      "2           2                     stablecoins                   Stablecoins   \n",
      "3           3          alleged-sec-securities        Alleged SEC Securities   \n",
      "4           4           exchange-based-tokens         Exchange-based Tokens   \n",
      "5           5  centralized-exchange-token-cex    Centralized Exchange (CEX)   \n",
      "6           6      decentralized-finance-defi  Decentralized Finance (DeFi)   \n",
      "7           7           liquid-staking-tokens         Liquid Staking Tokens   \n",
      "8           8                      meme-token                          Meme   \n",
      "9           9                 eth-2-0-staking               Eth 2.0 Staking   \n",
      "\n",
      "     market_cap  market_cap_change_24h  \\\n",
      "0  7.889016e+11              -1.406792   \n",
      "1  3.051210e+11              -1.409583   \n",
      "2  1.242245e+11               0.181809   \n",
      "3  8.258470e+10              -1.158269   \n",
      "4  5.303521e+10              -0.309808   \n",
      "5  4.552775e+10               0.178308   \n",
      "6  4.273886e+10              -2.205621   \n",
      "7  1.636285e+10               0.966041   \n",
      "8  1.491237e+10              -2.249263   \n",
      "9  1.442475e+10               1.302604   \n",
      "\n",
      "                                             content  \\\n",
      "0                                                NaN   \n",
      "1  Smart contract platforms are usually blockchai...   \n",
      "2                                                NaN   \n",
      "3  Tokens and cryptocurrencies alleged to be secu...   \n",
      "4  These tokens are normally associated with both...   \n",
      "5  These utility tokens are issued by a centraliz...   \n",
      "6                                                NaN   \n",
      "7                                                NaN   \n",
      "8  Meme coins derive their relevance from memes, ...   \n",
      "9  In Ethereum 2.0, the consensus algorithm is tr...   \n",
      "\n",
      "                                         top_3_coins    volume_24h  \\\n",
      "0  ['https://assets.coingecko.com/coins/images/1/...  1.826987e+10   \n",
      "1  ['https://assets.coingecko.com/coins/images/27...  1.002859e+10   \n",
      "2  ['https://assets.coingecko.com/coins/images/32...  2.104310e+10   \n",
      "3  ['https://assets.coingecko.com/coins/images/82...  2.554525e+09   \n",
      "4  ['https://assets.coingecko.com/coins/images/82...  9.242519e+08   \n",
      "5  ['https://assets.coingecko.com/coins/images/82...  4.856774e+08   \n",
      "6  ['https://assets.coingecko.com/coins/images/13...  3.394594e+10   \n",
      "7  ['https://assets.coingecko.com/coins/images/13...  4.616829e+07   \n",
      "8  ['https://assets.coingecko.com/coins/images/5/...  6.735871e+08   \n",
      "9  ['https://assets.coingecko.com/coins/images/13...  4.483616e+07   \n",
      "\n",
      "                 updated_at  \n",
      "0  2023-08-25T23:10:25.431Z  \n",
      "1  2023-08-25T23:15:04.884Z  \n",
      "2  2023-08-25T23:15:04.636Z  \n",
      "3  2023-08-25T23:15:03.007Z  \n",
      "4  2023-08-25T23:15:06.393Z  \n",
      "5  2023-08-25T23:10:20.103Z  \n",
      "6  2023-08-25T23:15:08.259Z  \n",
      "7  2023-08-25T23:10:28.540Z  \n",
      "8  2023-08-25T23:10:23.106Z  \n",
      "9  2023-08-25T23:10:22.703Z  \n"
     ]
    }
   ],
   "source": [
    "# Método de rango intercuartílico o IQR (método de Tukey's fences)\n",
    "# Calcular los límites para los outliers\n",
    "Q1 = df['market_cap'].quantile(0.25)\n",
    "Q3 = df['market_cap'].quantile(0.75)\n",
    "IQR = Q3 - Q1\n",
    "limite_inferior = Q1 - 1.5 * IQR\n",
    "limite_superior = Q3 + 1.5 * IQR\n",
    "\n",
    "# Filtrar los registros que contienen outliers en la columna 'Fibra óptica'\n",
    "outliers = df.loc[(df['market_cap'] < limite_inferior) | (df['market_cap'] > limite_superior)]\n",
    "cantidad = len(outliers)\n",
    "print('cantidad de registros', cantidad)\n",
    "print(outliers)"
   ]
  },
  {
   "cell_type": "code",
   "execution_count": 17,
   "metadata": {},
   "outputs": [
    {
     "name": "stdout",
     "output_type": "stream",
     "text": [
      "cantidad de registros para market_cap 5\n",
      "    Unnamed: 0                 id                   name    market_cap  \\\n",
      "45          45           gambling               Gambling  7.305410e+08   \n",
      "57          57      telegram-bots          Telegram Bots  2.066119e+08   \n",
      "58          58  guild-scholarship  Guild and Scholarship  2.009463e+08   \n",
      "63          63            tourism                Tourism  8.440796e+07   \n",
      "66          66       discord-bots           Discord Bots  5.381165e+07   \n",
      "\n",
      "    market_cap_change_24h                                            content  \\\n",
      "45              12.926994                                                NaN   \n",
      "57              -7.393428                                                NaN   \n",
      "58             -12.281712  Guilds are decentralized autonomous organizati...   \n",
      "63              -7.107294                                                NaN   \n",
      "66              -6.749128                                                NaN   \n",
      "\n",
      "                                          top_3_coins    volume_24h  \\\n",
      "45  ['https://assets.coingecko.com/coins/images/24...  2.392567e+07   \n",
      "57  ['https://assets.coingecko.com/coins/images/30...  2.325473e+07   \n",
      "58  ['https://assets.coingecko.com/coins/images/19...  4.568785e+07   \n",
      "63  ['https://assets.coingecko.com/coins/images/46...  4.367524e+06   \n",
      "66  ['https://assets.coingecko.com/coins/images/30...  3.487430e+06   \n",
      "\n",
      "                  updated_at  \n",
      "45  2023-08-25T23:15:04.148Z  \n",
      "57  2023-08-25T23:15:01.373Z  \n",
      "58  2023-08-25T23:10:24.726Z  \n",
      "63  2023-08-25T23:15:05.097Z  \n",
      "66  2023-08-25T23:15:02.681Z  \n"
     ]
    }
   ],
   "source": [
    "#  'market_cap_change_24h'\n",
    "# Calcular los límites para los outliers\n",
    "Q1 = df['market_cap_change_24h'].quantile(0.25)\n",
    "Q3 = df['market_cap_change_24h'].quantile(0.75)\n",
    "IQR = Q3 - Q1\n",
    "limite_inferior = Q1 - 1.5 * IQR\n",
    "limite_superior = Q3 + 1.5 * IQR\n",
    "\n",
    "# Filtrar los registros que contienen outliers en la columna 'Fibra óptica'\n",
    "outliers = df.loc[(df['market_cap_change_24h'] < limite_inferior) | (df['market_cap_change_24h'] > limite_superior)]\n",
    "cantidad = len(outliers)\n",
    "print('cantidad de registros para market_cap', cantidad)\n",
    "print(outliers)"
   ]
  },
  {
   "cell_type": "code",
   "execution_count": 18,
   "metadata": {},
   "outputs": [
    {
     "name": "stdout",
     "output_type": "stream",
     "text": [
      "cantidad de registros para fully_diluted_valuation 9\n",
      "     Unnamed: 0                          id                          name  \\\n",
      "0             0                     layer-1                  Layer 1 (L1)   \n",
      "1             1     smart-contract-platform       Smart Contract Platform   \n",
      "2             2                 stablecoins                   Stablecoins   \n",
      "3             3      alleged-sec-securities        Alleged SEC Securities   \n",
      "6             6  decentralized-finance-defi  Decentralized Finance (DeFi)   \n",
      "11           11     non-fungible-tokens-nft                           NFT   \n",
      "26           26             finance-banking             Finance / Banking   \n",
      "28           28         asset-backed-tokens           Asset-backed Tokens   \n",
      "109         109                 aave-tokens                   Aave Tokens   \n",
      "\n",
      "       market_cap  market_cap_change_24h  \\\n",
      "0    7.889016e+11              -1.406792   \n",
      "1    3.051210e+11              -1.409583   \n",
      "2    1.242245e+11               0.181809   \n",
      "3    8.258470e+10              -1.158269   \n",
      "6    4.273886e+10              -2.205621   \n",
      "11   1.147313e+10              -1.471268   \n",
      "26   3.612012e+09              -1.543366   \n",
      "28   2.622096e+09              -1.951414   \n",
      "109  0.000000e+00               0.000000   \n",
      "\n",
      "                                               content  \\\n",
      "0                                                  NaN   \n",
      "1    Smart contract platforms are usually blockchai...   \n",
      "2                                                  NaN   \n",
      "3    Tokens and cryptocurrencies alleged to be secu...   \n",
      "6                                                  NaN   \n",
      "11   Non-fungible tokens, or NFTs, are collectible ...   \n",
      "26                                                 NaN   \n",
      "28                                                 NaN   \n",
      "109                                                NaN   \n",
      "\n",
      "                                           top_3_coins    volume_24h  \\\n",
      "0    ['https://assets.coingecko.com/coins/images/1/...  1.826987e+10   \n",
      "1    ['https://assets.coingecko.com/coins/images/27...  1.002859e+10   \n",
      "2    ['https://assets.coingecko.com/coins/images/32...  2.104310e+10   \n",
      "3    ['https://assets.coingecko.com/coins/images/82...  2.554525e+09   \n",
      "6    ['https://assets.coingecko.com/coins/images/13...  3.394594e+10   \n",
      "11   ['https://assets.coingecko.com/coins/images/14...  1.096839e+09   \n",
      "26   ['https://assets.coingecko.com/coins/images/29...  3.704039e+10   \n",
      "28   ['https://assets.coingecko.com/coins/images/95...  3.700800e+10   \n",
      "109  ['https://assets.coingecko.com/coins/images/11...  3.696522e+10   \n",
      "\n",
      "                   updated_at  \n",
      "0    2023-08-25T23:10:25.431Z  \n",
      "1    2023-08-25T23:15:04.884Z  \n",
      "2    2023-08-25T23:15:04.636Z  \n",
      "3    2023-08-25T23:15:03.007Z  \n",
      "6    2023-08-25T23:15:08.259Z  \n",
      "11   2023-08-25T23:10:22.081Z  \n",
      "26   2023-08-25T23:15:00.231Z  \n",
      "28   2023-08-25T23:15:05.583Z  \n",
      "109  2023-08-25T23:15:07.473Z  \n"
     ]
    }
   ],
   "source": [
    "# volume_24h\n",
    "# # Calcular los límites para los outliers\n",
    "Q1 = df['volume_24h'].quantile(0.25)\n",
    "Q3 = df['volume_24h'].quantile(0.75)\n",
    "IQR = Q3 - Q1\n",
    "limite_inferior = Q1 - 1.5 * IQR\n",
    "limite_superior = Q3 + 1.5 * IQR\n",
    "\n",
    "# Filtrar los registros que contienen outliers en la columna 'Fibra óptica'\n",
    "outliers = df.loc[(df['volume_24h'] < limite_inferior) | (df['volume_24h'] > limite_superior)]\n",
    "cantidad = len(outliers)\n",
    "print('cantidad de registros para fully_diluted_valuation', cantidad)\n",
    "print(outliers)"
   ]
  },
  {
   "cell_type": "markdown",
   "metadata": {},
   "source": [
    "Haber hallado estos datos atìpicos con el metodo de de Tukey's fences, no significan error en estos registros, simplemente que estos valores estan más alejados del conunto de datos."
   ]
  },
  {
   "cell_type": "markdown",
   "metadata": {},
   "source": [
    "Ahora se ve la dependencia y correlación entre variables"
   ]
  },
  {
   "cell_type": "code",
   "execution_count": 23,
   "metadata": {},
   "outputs": [
    {
     "name": "stdout",
     "output_type": "stream",
     "text": [
      "                       market_cap_change_24h  volume_24h\n",
      "market_cap_change_24h               1.000000    0.061216\n",
      "volume_24h                          0.061216    1.000000\n"
     ]
    }
   ],
   "source": [
    "variables = df[['market_cap_change_24h', 'volume_24h']]\n",
    "\n",
    "# Matriz de correlación\n",
    "correlation_matrix = variables.corr()\n",
    "\n",
    "print(correlation_matrix)"
   ]
  }
 ],
 "metadata": {
  "kernelspec": {
   "display_name": "Python 3",
   "language": "python",
   "name": "python3"
  },
  "language_info": {
   "codemirror_mode": {
    "name": "ipython",
    "version": 3
   },
   "file_extension": ".py",
   "mimetype": "text/x-python",
   "name": "python",
   "nbconvert_exporter": "python",
   "pygments_lexer": "ipython3",
   "version": "3.9.0"
  },
  "orig_nbformat": 4
 },
 "nbformat": 4,
 "nbformat_minor": 2
}
